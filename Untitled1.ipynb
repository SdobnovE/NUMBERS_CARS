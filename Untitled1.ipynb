{
 "cells": [
  {
   "cell_type": "code",
   "execution_count": 1,
   "metadata": {},
   "outputs": [
    {
     "name": "stderr",
     "output_type": "stream",
     "text": [
      "Using TensorFlow backend.\n"
     ]
    }
   ],
   "source": [
    "from PIL import Image\n",
    "import numpy as np\n",
    "import imageio\n",
    "import matplotlib.pyplot as plt\n",
    "import random as rnd\n",
    "import os\n",
    "import cv2\n",
    "import bottleneck as bn\n",
    "from scipy.signal import argrelextrema\n",
    "from scipy.interpolate import CubicSpline\n",
    "from keras.models import Sequential\n",
    "#нейронная сеть, слои которой соединены друг с другом\n",
    "\n",
    "from keras.layers import Dense\n",
    "#тип слоев, когда нейроны предыдущего уровня соединяются со всеми нейронами следующего уровня\n",
    "\n",
    "from keras.utils import np_utils\n",
    "#утилиты для numpy\n",
    "\n",
    "from sklearn.neighbors import KNeighborsClassifier\n",
    "from sklearn.model_selection import train_test_split"
   ]
  },
  {
   "cell_type": "code",
   "execution_count": 2,
   "metadata": {},
   "outputs": [],
   "source": [
    "def make_better(pic):\n",
    "    for jj in range(5):\n",
    "        for i in range(1, pic.shape[0] - 1):\n",
    "            for j in range(1, pic.shape[1] - 1):\n",
    "\n",
    "                A = pic[i - 1 : i + 2, j - 1 : j + 2, 0].astype(int)\n",
    "                if abs(pic[i,j,0] - (A.sum() - pic[i,j,0]) / 8) > 255/4:\n",
    "                    t = (A.sum() - pic1[i,j,0]) // 8\n",
    "                    pic[i,j,0] = t\n",
    "                    pic[i,j,1] = t\n",
    "                    pic[i,j,2] = t\n",
    "    return pic\n",
    "\n",
    "def plot_image(img):\n",
    "    \n",
    "    fig = plt.figure(figsize=(5,27))\n",
    "    ax = fig.add_subplot(111)\n",
    "    ax.imshow(img)\n",
    "    ax.set_yticklabels([])\n",
    "    ax.set_xticklabels([])\n",
    "    plt.show()\n",
    "  \n",
    "\n",
    "    \n",
    "    \n",
    "    \n",
    "def make_picture_gray(pic):\n",
    "    a = pic[:,:,:].max(axis=2)\n",
    "    a = a.reshape((34,152,1))\n",
    "    pic1 = a[:]\n",
    "    pic1 = np.append(pic1, a, axis = 2)\n",
    "    pic1 = np.append(pic1, a, axis = 2)  \n",
    "    return pic1\n",
    "    \n",
    "    \n",
    "def change_picture(pic1, nums, pixels_x, pixels_y, shade):\n",
    "    pic = np.array(pic1)\n",
    "    E = pic.mean()\n",
    "    #print(pic.shape[2])\n",
    "    add_darkness = rnd.normalvariate(E / 2, 50)\n",
    "    add_darkness = -int(add_darkness)\n",
    "    for i in range(pic.shape[0]):\n",
    "        for j in range(pic.shape[1]):\n",
    "            if (add_darkness + pic[i,j][0]) > 255:\n",
    "                pic[i,j] = [255,255,255]\n",
    "                continue\n",
    "    \n",
    "                \n",
    "            if (add_darkness + pic[i,j][0]) <= 0:\n",
    "                pic[i,j] = [0,0,0]\n",
    "                continue\n",
    "            pic[i,j] = add_darkness + pic[i,j]\n",
    "            #print(\"haha\")\n",
    "            #print(i,i)\n",
    "        #print(i)\n",
    "    for i in range(nums):\n",
    "        pic[pixels_x[i],pixels_y[i]] = [shade[i], shade[i], shade[i]]\n",
    "    return pic\n",
    "        \n",
    "        \n",
    "def choose_changes_for_picture(pic):\n",
    "    '''add noise to the picture\n",
    "       return nums_pixels pixels_x pixels_y shade\n",
    "       nums_pixels - number of pixels to change\n",
    "       pixels_x - array of coordinates of pixels on x-axis\n",
    "       pixels_y - array of coordinates of pixels on y-axis\n",
    "       shade - array of shades'''\n",
    "    '''Chosse numbers of pixels \n",
    "                        30-Math Expectation \n",
    "                        20-Dispersion'''\n",
    "    nums_pixels = rnd.normalvariate (800, 20)\n",
    "    nums_pixels = int(nums_pixels)\n",
    "    if (nums_pixels < 0):\n",
    "        nums_pixels = 0\n",
    "    if (nums_pixels > (pic.shape[0] * pic.shape[1]) / 2):\n",
    "        num_pixels = int((pic.shape[0] * pic.shape[1]) / 2)\n",
    "    \n",
    "    '''Create array of pixels on x - axis\n",
    "                        and on y - axis'''\n",
    "    pixels_x = np.array([])\n",
    "    pixels_y = np.array([])\n",
    "    \n",
    "    '''Add pixels on y - axis\n",
    "                  Normal Distribution\n",
    "                  Math Exp is the center of picture on y\n",
    "                  Dispersion is 1/4 of numbers pixels on y'''\n",
    "    for i in range(nums_pixels):\n",
    "        ap = rnd.normalvariate(pic.shape[0] / 2.0, pic.shape[0] / 4.0)\n",
    "        if ap < 0:\n",
    "            ap = 0\n",
    "        if ap >= pic.shape[0]:\n",
    "            ap = pic.shape[0] - 1\n",
    "        pixels_x = np.append(pixels_x,int(ap))\n",
    "    \n",
    "    \n",
    "    '''Add pixels on x - axis\n",
    "                  Normal Distribution\n",
    "                  Math Exp is the center of picture on x\n",
    "                  Dispersion is 1/4 of numbers pixels on x'''\n",
    "    for i in range(nums_pixels):\n",
    "        ap = rnd.normalvariate(pic.shape[1] / 2.0, pic.shape[1] / 4.0)\n",
    "        if ap < 0:\n",
    "            ap = 0\n",
    "        if ap >= pic.shape[1]:\n",
    "            ap = pic.shape[1] - 1\n",
    "        pixels_y = np.append(pixels_y,int(ap))\n",
    "    \n",
    "    \n",
    "    '''Choose shade of gray for every pixel'''\n",
    "    shade = np.array([])\n",
    "    for i in range (nums_pixels):\n",
    "        ap = rnd.normalvariate (255 / 2.0, 255 / 4.0)\n",
    "        if ap > 255:\n",
    "            ap = 255\n",
    "        if ap < 0:\n",
    "            ap =0\n",
    "        shade = np.append(shade, int(ap))\n",
    "    return nums_pixels, pixels_x.astype (int), pixels_y.astype (int), shade.astype (int)\n",
    "    "
   ]
  },
  {
   "cell_type": "code",
   "execution_count": 3,
   "metadata": {},
   "outputs": [],
   "source": [
    "rnd.seed(30)"
   ]
  },
  {
   "cell_type": "code",
   "execution_count": 4,
   "metadata": {},
   "outputs": [
    {
     "data": {
      "image/png": "[encoded data removed]",
      "text/plain": [
       "<Figure size 360x1944 with 1 Axes>"
      ]
     },
     "metadata": {
      "needs_background": "light"
     },
     "output_type": "display_data"
    },
    {
     "name": "stdout",
     "output_type": "stream",
     "text": [
      "(34, 152, 3)\n"
     ]
    }
   ],
   "source": [
    "pic = imageio.imread(\"A001CB06.png\")\n",
    "plot_image(pic)\n",
    "print(pic.shape)"
   ]
  },
  {
   "cell_type": "code",
   "execution_count": 5,
   "metadata": {},
   "outputs": [
    {
     "data": {
      "image/png": "[encoded data removed]",
      "text/plain": [
       "<Figure size 360x1944 with 1 Axes>"
      ]
     },
     "metadata": {
      "needs_background": "light"
     },
     "output_type": "display_data"
    },
    {
     "data": {
      "image/png": "[encoded data removed]",
      "text/plain": [
       "<Figure size 360x1944 with 1 Axes>"
      ]
     },
     "metadata": {
      "needs_background": "light"
     },
     "output_type": "display_data"
    },
    {
     "data": {
      "image/png": "[encoded data removed]",
      "text/plain": [
       "<Figure size 360x1944 with 1 Axes>"
      ]
     },
     "metadata": {
      "needs_background": "light"
     },
     "output_type": "display_data"
    },
    {
     "data": {
      "image/png": "[encoded data removed]",
      "text/plain": [
       "<Figure size 360x1944 with 1 Axes>"
      ]
     },
     "metadata": {
      "needs_background": "light"
     },
     "output_type": "display_data"
    }
   ],
   "source": [
    "plot_image(pic)\n",
    "pic = make_picture_gray(pic)\n",
    "plot_image(pic)\n",
    "num, pix_x, pix_y, shade = choose_changes_for_picture(pic)\n",
    "\n",
    "pic1 = change_picture(pic, num, pix_x, pix_y, shade)\n",
    "plot_image(pic1)\n",
    "pic1 = make_better(pic1)\n",
    "plot_image(pic1)"
   ]
  },
  {
   "cell_type": "code",
   "execution_count": 6,
   "metadata": {},
   "outputs": [],
   "source": [
    "data_nums = []\n",
    "data_let = []\n",
    "ans_nums = []\n",
    "ans_let = []"
   ]
  },
  {
   "cell_type": "code",
   "execution_count": 31,
   "metadata": {},
   "outputs": [
    {
     "name": "stdout",
     "output_type": "stream",
     "text": [
      "/home/evgeny/Рабочий стол/num_2\n",
      "P748MT54.png\n",
      "HAHAH\n",
      "[1, 20, 38, 54, 71, 91, 107]\n"
     ]
    },
    {
     "data": {
      "image/png": "[encoded data removed]",
      "text/plain": [
       "<Figure size 360x1944 with 1 Axes>"
      ]
     },
     "metadata": {
      "needs_background": "light"
     },
     "output_type": "display_data"
    },
    {
     "name": "stdout",
     "output_type": "stream",
     "text": [
      "P748MT54.png\n",
      "0\n",
      "X761AK96.png\n",
      "HAHAH\n",
      "[7, 28, 42, 58, 75, 93, 108]\n"
     ]
    },
    {
     "data": {
      "image/png": "[encoded data removed]",
      "text/plain": [
       "<Figure size 360x1944 with 1 Axes>"
      ]
     },
     "metadata": {
      "needs_background": "light"
     },
     "output_type": "display_data"
    },
    {
     "name": "stdout",
     "output_type": "stream",
     "text": [
      "X761AK96.png\n",
      "1\n",
      "X611AE36.png\n",
      "HAHAH\n",
      "[6, 29, 44, 60, 74, 93, 107]\n"
     ]
    },
    {
     "data": {
      "image/png": "[encoded data removed]",
      "text/plain": [
       "<Figure size 360x1944 with 1 Axes>"
      ]
     },
     "metadata": {
      "needs_background": "light"
     },
     "output_type": "display_data"
    },
    {
     "name": "stdout",
     "output_type": "stream",
     "text": [
      "X611AE36.png\n",
      "2\n",
      "X422HX22.png\n",
      "HAHAH\n",
      "[3, 23, 41, 58, 73, 92, 109]\n"
     ]
    },
    {
     "data": {
      "image/png": "[encoded data removed]",
      "text/plain": [
       "<Figure size 360x1944 with 1 Axes>"
      ]
     },
     "metadata": {
      "needs_background": "light"
     },
     "output_type": "display_data"
    },
    {
     "name": "stdout",
     "output_type": "stream",
     "text": [
      "X422HX22.png\n",
      "3\n",
      "Y423PT86.png\n",
      "HAHAH\n",
      "[13, 25, 43, 59, 74, 90, 106]\n"
     ]
    },
    {
     "data": {
      "image/png": "[encoded data removed]",
      "text/plain": [
       "<Figure size 360x1944 with 1 Axes>"
      ]
     },
     "metadata": {
      "needs_background": "light"
     },
     "output_type": "display_data"
    },
    {
     "name": "stdout",
     "output_type": "stream",
     "text": [
      "Y423PT86.png\n",
      "4\n",
      "M730XX22.png\n",
      "HAHAH\n",
      "[0, 20, 41, 57, 73, 90, 106]\n"
     ]
    },
    {
     "data": {
      "image/png": "[encoded data removed]",
      "text/plain": [
       "<Figure size 360x1944 with 1 Axes>"
      ]
     },
     "metadata": {
      "needs_background": "light"
     },
     "output_type": "display_data"
    },
    {
     "name": "stdout",
     "output_type": "stream",
     "text": [
      "M730XX22.png\n",
      "5\n",
      "B565HP74.png\n",
      "HAHAH\n",
      "[13, 25, 43, 59, 74, 89, 107]\n"
     ]
    },
    {
     "data": {
      "image/png": "[encoded data removed]",
      "text/plain": [
       "<Figure size 360x1944 with 1 Axes>"
      ]
     },
     "metadata": {
      "needs_background": "light"
     },
     "output_type": "display_data"
    },
    {
     "name": "stdout",
     "output_type": "stream",
     "text": [
      "B565HP74.png\n",
      "6\n",
      "E108XT63.png\n"
     ]
    },
    {
     "ename": "KeyboardInterrupt",
     "evalue": "",
     "output_type": "error",
     "traceback": [
      "\u001b[0;31m---------------------------------------------------------------------------\u001b[0m",
      "\u001b[0;31mKeyboardInterrupt\u001b[0m                         Traceback (most recent call last)",
      "\u001b[0;32m<timed exec>\u001b[0m in \u001b[0;36m<module>\u001b[0;34m\u001b[0m\n",
      "\u001b[0;32m<ipython-input-2-917b57d6c37f>\u001b[0m in \u001b[0;36mchange_picture\u001b[0;34m(pic1, nums, pixels_x, pixels_y, shade)\u001b[0m\n\u001b[1;32m     42\u001b[0m     \u001b[0;32mfor\u001b[0m \u001b[0mi\u001b[0m \u001b[0;32min\u001b[0m \u001b[0mrange\u001b[0m\u001b[0;34m(\u001b[0m\u001b[0mpic\u001b[0m\u001b[0;34m.\u001b[0m\u001b[0mshape\u001b[0m\u001b[0;34m[\u001b[0m\u001b[0;36m0\u001b[0m\u001b[0;34m]\u001b[0m\u001b[0;34m)\u001b[0m\u001b[0;34m:\u001b[0m\u001b[0;34m\u001b[0m\u001b[0;34m\u001b[0m\u001b[0m\n\u001b[1;32m     43\u001b[0m         \u001b[0;32mfor\u001b[0m \u001b[0mj\u001b[0m \u001b[0;32min\u001b[0m \u001b[0mrange\u001b[0m\u001b[0;34m(\u001b[0m\u001b[0mpic\u001b[0m\u001b[0;34m.\u001b[0m\u001b[0mshape\u001b[0m\u001b[0;34m[\u001b[0m\u001b[0;36m1\u001b[0m\u001b[0;34m]\u001b[0m\u001b[0;34m)\u001b[0m\u001b[0;34m:\u001b[0m\u001b[0;34m\u001b[0m\u001b[0;34m\u001b[0m\u001b[0m\n\u001b[0;32m---> 44\u001b[0;31m             \u001b[0;32mif\u001b[0m \u001b[0;34m(\u001b[0m\u001b[0madd_darkness\u001b[0m \u001b[0;34m+\u001b[0m \u001b[0mpic\u001b[0m\u001b[0;34m[\u001b[0m\u001b[0mi\u001b[0m\u001b[0;34m,\u001b[0m\u001b[0mj\u001b[0m\u001b[0;34m]\u001b[0m\u001b[0;34m[\u001b[0m\u001b[0;36m0\u001b[0m\u001b[0;34m]\u001b[0m\u001b[0;34m)\u001b[0m \u001b[0;34m>\u001b[0m \u001b[0;36m255\u001b[0m\u001b[0;34m:\u001b[0m\u001b[0;34m\u001b[0m\u001b[0;34m\u001b[0m\u001b[0m\n\u001b[0m\u001b[1;32m     45\u001b[0m                 \u001b[0mpic\u001b[0m\u001b[0;34m[\u001b[0m\u001b[0mi\u001b[0m\u001b[0;34m,\u001b[0m\u001b[0mj\u001b[0m\u001b[0;34m]\u001b[0m \u001b[0;34m=\u001b[0m \u001b[0;34m[\u001b[0m\u001b[0;36m255\u001b[0m\u001b[0;34m,\u001b[0m\u001b[0;36m255\u001b[0m\u001b[0;34m,\u001b[0m\u001b[0;36m255\u001b[0m\u001b[0;34m]\u001b[0m\u001b[0;34m\u001b[0m\u001b[0;34m\u001b[0m\u001b[0m\n\u001b[1;32m     46\u001b[0m                 \u001b[0;32mcontinue\u001b[0m\u001b[0;34m\u001b[0m\u001b[0;34m\u001b[0m\u001b[0m\n",
      "\u001b[0;31mKeyboardInterrupt\u001b[0m: "
     ]
    }
   ],
   "source": [
    "%%time\n",
    "path = \"\"\n",
    "path = os.path.abspath(\"\")\n",
    "print(path)\n",
    "filt1 = np.array([[-0.1,0.2,-0.1], \n",
    "                 [0.2,3,0.2], \n",
    "                 [-0.1,0.2,-0.1]])\n",
    "\n",
    "filt3 =np.array([[1,4,60,4,1],\n",
    "                 [4,16,100,16,4],\n",
    "                 [6,24,-496,24,6],\n",
    "                 [4,16,100,16,4],\n",
    "                 [1,4,60,4,1]])\n",
    "\n",
    "ra = [16,18,16,16,18,18,22]\n",
    "\n",
    "iterat = 0\n",
    "for i in os.listdir(path + \"/\" + \"img\"):\n",
    "    print(i)\n",
    "    pic = imageio.imread(path + \"/\" + \"img/\" + i)\n",
    "    #plot_image(pic)\n",
    "    pic = make_picture_gray(pic)\n",
    "    num, pix_x, pix_y, shade = choose_changes_for_picture(pic)\n",
    "    pic = change_picture(pic, num, pix_x, pix_y, shade)\n",
    "    #plot_image(pic)\n",
    "    #imageio.imwrite(\"noisy_img/\" + i, pic)\n",
    "    \n",
    "    pic = cv2.medianBlur(pic,3)\n",
    "    #plot_image(pic)\n",
    "    if pic[:,:,0].mean() < 255/5:\n",
    "        pic = cv2.filter2D(pic,-1, filt3)\n",
    "        pic = 255 - pic\n",
    "    if (pic[:,:,0].mean() >= 255/5) and (pic[:,:,0].mean() < 255 / 2):\n",
    "        pic = cv2.filter2D(pic,-1, filt1)\n",
    "    #imageio.imwrite(\"cleared_img/\" + i, pic)\n",
    "    \n",
    "    #plot_image(pic)\n",
    "    \n",
    "    imgray = cv2.cvtColor(pic,cv2.COLOR_BGR2GRAY)\n",
    "    \n",
    "    ret,thresh = cv2.threshold(imgray,127,255,0)\n",
    "    \n",
    "    asd, contours, hierarchy = cv2.findContours(thresh,cv2.RETR_CCOMP,cv2.CHAIN_APPROX_SIMPLE)\n",
    "    print(\"HAHAH\")\n",
    "    pic1 = np.array([255 for i in range(pic.shape[0] * pic.shape[1] * 3)])\n",
    "    pic1 = pic1.reshape((pic.shape[0] , pic.shape[1] , 3))\n",
    "    #pic[:,:] = [0,0,0]\n",
    "    #cv2.drawContours(pic, contours, -1, (0,255,0), 1)\n",
    "    sticks = np.array([])\n",
    "    for j in range(len(contours)):\n",
    "        a = np.array(contours[j])\n",
    "        a = a.reshape((-1,2))\n",
    "        #print(a.shape)\n",
    "        t =a[:,0].min()\n",
    "        if t <= 110:\n",
    "            sticks = np.append(sticks, t)\n",
    "        #print(a[:,0].min())\n",
    "        t =a[:,0].max()\n",
    "        if t <= 110:\n",
    "            sticks = np.append(sticks, t)\n",
    "        \n",
    "    \n",
    "    #plot_image(pic)\n",
    "    sticks = sticks.astype(int)\n",
    "    #pic[:,sticks] = [255,0,0]\n",
    "    #print(sticks)\n",
    "    j = 0\n",
    "    k = sticks.max()\n",
    "    ar_k = []\n",
    "    while j < 7:\n",
    "        ar_k.append(k)\n",
    "        k = sticks[(np.abs(sticks + max(ra[j],0) - k)).argmin()] \n",
    "        #print(k)\n",
    "        j += 1\n",
    "        #plot_image(pic)\n",
    "    \n",
    "    ar_k = ar_k[::-1]\n",
    "    print(ar_k)\n",
    "    pic[:,110] = [0,255,0]\n",
    "    func = pic[:,:,0].mean(axis=0)\n",
    "    color = pic.mean()\n",
    "    mini_pic = np.array([255 for i in range(34*34*3*6)])\n",
    "    mini_pic = mini_pic.reshape((6,34,34,3))\n",
    "    mini_pic = mini_pic.astype(int)\n",
    "    \n",
    "    #print(ar_k[-len(ar_k):])\n",
    "    for j in range(6):\n",
    "        #print(pic[:,ar_k[j]:ar_k[j+1]].shape)\n",
    "        mini_pic[j,:,max(0, 34 - (ar_k[j+1] - ar_k[j])):34 ,:] = pic[:,ar_k[j]:ar_k[j+1],:]\n",
    "        \n",
    "    data_let.append(mini_pic[0].reshape(-1))\n",
    "    data_let.append(mini_pic[4].reshape(-1))\n",
    "    data_let.append(mini_pic[5].reshape(-1))\n",
    "    \n",
    "    data_nums.append(mini_pic[1].reshape(-1))\n",
    "    data_nums.append(mini_pic[2].reshape(-1))\n",
    "    data_nums.append(mini_pic[3].reshape(-1))\n",
    "    \n",
    "    ans_let.append(i[0])\n",
    "    ans_let.append(i[4])\n",
    "    ans_let.append(i[5])\n",
    "    \n",
    "    ans_nums.append(i[1])\n",
    "    ans_nums.append(i[2])\n",
    "    ans_nums.append(i[3])\n",
    "    \n",
    "    #imageio.imwrite(\"parse_img/\" + i[:-4] + \"_\" + \"0\" +i[-4:], mini_pic[0].astype(np.uint8))\n",
    "    \n",
    "    #imageio.imwrite(\"parse_img/\" + i[:-4] + \"_\" + \"4\" +i[-4:], mini_pic[4].astype(np.uint8))\n",
    "    \n",
    "    #imageio.imwrite(\"parse_img/\" + i[:-4] + \"_\" + \"5\" +i[-4:], mini_pic[5].astype(np.uint8))\n",
    "    \n",
    "    \n",
    "    #imageio.imwrite(\"parse_img/\" + i[:-4] + \"_\" + \"1\" +i[-4:], mini_pic[1].astype(np.uint8))\n",
    "    \n",
    "    #imageio.imwrite(\"parse_img/\" + i[:-4] + \"_\" + \"2\" +i[-4:], mini_pic[2].astype(np.uint8))\n",
    "    \n",
    "    #imageio.imwrite(\"parse_img/\" + i[:-4] + \"_\" + \"3\" +i[-4:], mini_pic[3].astype(np.uint8))\n",
    "    plot_image(mini_pic[0])\n",
    "    print(i)\n",
    "    #print(func.shape)\n",
    "    #pic[:,ar_k] = [255,0,0]\n",
    "    print(iterat)\n",
    "    iterat += 1\n",
    "    "
   ]
  },
  {
   "cell_type": "code",
   "execution_count": 32,
   "metadata": {},
   "outputs": [],
   "source": [
    "clf_n = KNeighborsClassifier(n_neighbors=7)\n",
    "clf_l = KNeighborsClassifier(n_neighbors=7)"
   ]
  },
  {
   "cell_type": "code",
   "execution_count": 33,
   "metadata": {},
   "outputs": [],
   "source": [
    "path = os.path.abspath(\"\")\n",
    "itera = 0\n",
    "data_let = []\n",
    "data_num = []\n",
    "ans_let = []\n",
    "ans_num = []\n",
    "for i in os.listdir(path + \"/\" + \"parse_img\"):\n",
    "    #print(i)\n",
    "    #print(itera)\n",
    "    #print(\"#\", i[-5:-4])\n",
    "    pic = imageio.imread(path + \"/\" + \"parse_img/\" + i)\n",
    "    if (int(i[-5:-4]) > 0) and (int(i[-5:-4]) <= 3):\n",
    "        data_num.append(pic.reshape((-1)))\n",
    "        ans_num.append(i[int(i[-5:-4])])\n",
    "    else:\n",
    "        data_let.append(pic.reshape((-1)))\n",
    "        ans_let.append(i[int(i[-5:-4])])\n",
    "    \n",
    "    itera += 1\n",
    "    "
   ]
  },
  {
   "cell_type": "code",
   "execution_count": 35,
   "metadata": {},
   "outputs": [
    {
     "data": {
      "text/plain": [
       "9738"
      ]
     },
     "execution_count": 35,
     "metadata": {},
     "output_type": "execute_result"
    }
   ],
   "source": [
    "X_train_l, X_test_l, y_train_l, y_test_l = train_test_split(data_let, ans_let, test_size=0.3)\n",
    "X_train_n, X_test_n, y_train_n, y_test_n = train_test_split(data_num, ans_num, test_size=0.3)\n",
    "len(y_test_n)"
   ]
  },
  {
   "cell_type": "code",
   "execution_count": 36,
   "metadata": {},
   "outputs": [
    {
     "data": {
      "text/plain": [
       "KNeighborsClassifier(algorithm='auto', leaf_size=30, metric='minkowski',\n",
       "           metric_params=None, n_jobs=None, n_neighbors=7, p=2,\n",
       "           weights='uniform')"
      ]
     },
     "execution_count": 36,
     "metadata": {},
     "output_type": "execute_result"
    }
   ],
   "source": [
    "clf_n.fit(X_train_n, y_train_n)\n",
    "clf_l.fit(X_train_l, y_train_l)"
   ]
  },
  {
   "cell_type": "code",
   "execution_count": null,
   "metadata": {},
   "outputs": [],
   "source": [
    "clf_n.score(X_test_n, y_test_n)"
   ]
  },
  {
   "cell_type": "code",
   "execution_count": null,
   "metadata": {},
   "outputs": [],
   "source": [
    "clf_l.score(X_test_l, y_test_l)"
   ]
  },
  {
   "cell_type": "code",
   "execution_count": null,
   "metadata": {},
   "outputs": [],
   "source": []
  }
 ],
 "metadata": {
  "kernelspec": {
   "display_name": "Python 3",
   "language": "python",
   "name": "python3"
  },
  "language_info": {
   "codemirror_mode": {
    "name": "ipython",
    "version": 3
   },
   "file_extension": ".py",
   "mimetype": "text/x-python",
   "name": "python",
   "nbconvert_exporter": "python",
   "pygments_lexer": "ipython3",
   "version": "3.7.3"
  }
 },
 "nbformat": 4,
 "nbformat_minor": 2
}
