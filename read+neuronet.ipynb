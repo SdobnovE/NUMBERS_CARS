{
 "cells": [
  {
   "cell_type": "code",
   "execution_count": 91,
   "metadata": {},
   "outputs": [],
   "source": [
    "from func import *\n",
    "from PIL import Image\n",
    "import numpy as np\n",
    "import imageio\n",
    "import matplotlib.pyplot as plt\n",
    "import random as rnd\n",
    "import os\n",
    "import cv2\n",
    "import bottleneck as bn\n",
    "from scipy.signal import argrelextrema\n",
    "from scipy.interpolate import CubicSpline\n",
    "from keras.models import Sequential\n",
    "#нейронная сеть, слои которой соединены друг с другом\n",
    "\n",
    "from keras.layers import Dense\n",
    "#тип слоев, когда нейроны предыдущего уровня соединяются со всеми нейронами следующего уровня\n",
    "\n",
    "from keras.utils import np_utils\n",
    "#утилиты для numpy\n",
    "\n",
    "from sklearn.neighbors import KNeighborsClassifier\n",
    "from sklearn.model_selection import train_test_split\n",
    "\n",
    "from IPython.display import display, clear_output"
   ]
  },
  {
   "cell_type": "code",
   "execution_count": 92,
   "metadata": {},
   "outputs": [],
   "source": [
    "rnd.seed(30)"
   ]
  },
  {
   "cell_type": "code",
   "execution_count": 93,
   "metadata": {},
   "outputs": [
    {
     "data": {
      "text/plain": [
       "'1.13.1'"
      ]
     },
     "execution_count": 93,
     "metadata": {},
     "output_type": "execute_result"
    }
   ],
   "source": [
    "import tensorflow\n",
    "import keras\n",
    "tensorflow.__version__"
   ]
  },
  {
   "cell_type": "code",
   "execution_count": null,
   "metadata": {},
   "outputs": [],
   "source": []
  },
  {
   "cell_type": "code",
   "execution_count": 94,
   "metadata": {},
   "outputs": [
    {
     "data": {
      "text/plain": [
       "'2.2.4'"
      ]
     },
     "execution_count": 94,
     "metadata": {},
     "output_type": "execute_result"
    }
   ],
   "source": [
    "keras.__version__"
   ]
  },
  {
   "cell_type": "code",
   "execution_count": 95,
   "metadata": {},
   "outputs": [],
   "source": [
    "\n",
    "data_let = []\n",
    "data_num = []\n",
    "ans_let = []\n",
    "ans_num = []"
   ]
  },
  {
   "cell_type": "code",
   "execution_count": 96,
   "metadata": {},
   "outputs": [
    {
     "name": "stdout",
     "output_type": "stream",
     "text": [
      "CPU times: user 12.1 s, sys: 680 ms, total: 12.8 s\n",
      "Wall time: 12.8 s\n"
     ]
    }
   ],
   "source": [
    "%%time\n",
    "path = os.path.abspath(\"\")\n",
    "itera = 0\n",
    "for i in os.listdir(path + \"/\" + \"parse_img_no_counturs\"):\n",
    "    pic = imageio.imread(path + \"/\" + \"parse_img_no_counturs/\" + i)\n",
    "    if (int(i[-5:-4]) > 0) and (int(i[-5:-4]) <= 3):\n",
    "        data_num.append(pic.reshape((-1)))\n",
    "        ans_num.append(i[int(i[-5:-4])])\n",
    "    else:\n",
    "        data_let.append(pic.reshape((-1)))\n",
    "        ans_let.append(i[int(i[-5:-4])])\n",
    "    \n",
    "    itera += 1\n",
    "    "
   ]
  },
  {
   "cell_type": "code",
   "execution_count": 113,
   "metadata": {},
   "outputs": [
    {
     "data": {
      "text/plain": [
       "9738"
      ]
     },
     "execution_count": 113,
     "metadata": {},
     "output_type": "execute_result"
    }
   ],
   "source": [
    "X_train_l, X_test_l, y_train_l, y_test_l = train_test_split(data_let, ans_let, test_size=0.3)\n",
    "X_train_n, X_test_n, y_train_n, y_test_n = train_test_split(data_num, ans_num, test_size=0.3)\n",
    "len(y_test_n)"
   ]
  },
  {
   "cell_type": "code",
   "execution_count": 114,
   "metadata": {},
   "outputs": [
    {
     "name": "stdout",
     "output_type": "stream",
     "text": [
      "(22722, 12)\n"
     ]
    }
   ],
   "source": [
    "Y = np_utils.to_categorical(y_train_n)\n",
    "\n",
    "\n",
    "letters = np.unique(y_train_l)\n",
    "ln = letters.shape\n",
    "Y1 = np.array([[0 for i in range(ln[0])] for j in range(len(y_train_l))])\n",
    "for i in range(Y1.shape[0]):\n",
    "    Y1[i,(y_train_l[i] == letters).argmax()] = 1\n",
    "print(Y1.shape)"
   ]
  },
  {
   "cell_type": "code",
   "execution_count": 115,
   "metadata": {},
   "outputs": [],
   "source": [
    "model_com = Sequential()\n",
    "model_let = Sequential()\n",
    "model_num = Sequential()"
   ]
  },
  {
   "cell_type": "code",
   "execution_count": 116,
   "metadata": {},
   "outputs": [],
   "source": [
    "model_num.add(Dense(800, input_dim=3468, init=\"normal\", activation=\"tanh\"))\n",
    "model_num.add(Dense(800, input_dim=800, init=\"normal\", activation=\"relu\"))\n",
    "model_num.add(Dense(1000, input_dim=800, init=\"normal\", activation=\"selu\"))\n",
    "\n",
    "model_let.add(Dense(800, input_dim=3468, init=\"normal\", activation=\"tanh\"))\n",
    "clear_output()"
   ]
  },
  {
   "cell_type": "code",
   "execution_count": 117,
   "metadata": {},
   "outputs": [],
   "source": [
    "model_num.add(Dense(9, init=\"normal\", activation=\"softmax\"))\n",
    "model_let.add(Dense(Y1.shape[1], init=\"normal\", activation=\"softmax\"))\n",
    "clear_output()"
   ]
  },
  {
   "cell_type": "code",
   "execution_count": 118,
   "metadata": {},
   "outputs": [],
   "source": [
    "model_let.compile(loss=\"categorical_crossentropy\", \n",
    "               optimizer=\"SGD\", \n",
    "               metrics=[\"accuracy\"])"
   ]
  },
  {
   "cell_type": "code",
   "execution_count": 119,
   "metadata": {},
   "outputs": [],
   "source": [
    "model_num.compile(loss=\"categorical_crossentropy\", \n",
    "               optimizer=\"SGD\", \n",
    "               metrics=[\"accuracy\"])\n"
   ]
  },
  {
   "cell_type": "code",
   "execution_count": 120,
   "metadata": {},
   "outputs": [
    {
     "name": "stdout",
     "output_type": "stream",
     "text": [
      "_________________________________________________________________\n",
      "Layer (type)                 Output Shape              Param #   \n",
      "=================================================================\n",
      "dense_67 (Dense)             (None, 800)               2775200   \n",
      "_________________________________________________________________\n",
      "dense_69 (Dense)             (None, 12)                9612      \n",
      "=================================================================\n",
      "Total params: 2,784,812\n",
      "Trainable params: 2,784,812\n",
      "Non-trainable params: 0\n",
      "_________________________________________________________________\n",
      "None\n"
     ]
    }
   ],
   "source": [
    "print(model_let.summary())"
   ]
  },
  {
   "cell_type": "code",
   "execution_count": 105,
   "metadata": {},
   "outputs": [
    {
     "name": "stdout",
     "output_type": "stream",
     "text": [
      "CPU times: user 2min 13s, sys: 1min 11s, total: 3min 24s\n",
      "Wall time: 4min 9s\n"
     ]
    }
   ],
   "source": [
    "%%time\n",
    "model_let.fit(np.array(X_train_l), Y1, batch_size=15000, epochs=750,\n",
    "         verbose=1)\n",
    "clear_output()"
   ]
  },
  {
   "cell_type": "code",
   "execution_count": 106,
   "metadata": {},
   "outputs": [
    {
     "name": "stdout",
     "output_type": "stream",
     "text": [
      "CPU times: user 3min 12s, sys: 1min 31s, total: 4min 44s\n",
      "Wall time: 6min\n"
     ]
    }
   ],
   "source": [
    "%%time\n",
    "model_num.fit(np.array(X_train_n), Y, batch_size=15000, epochs=750,\n",
    "         verbose=1)\n",
    "\n",
    "clear_output()"
   ]
  },
  {
   "cell_type": "code",
   "execution_count": 107,
   "metadata": {},
   "outputs": [
    {
     "data": {
      "text/plain": [
       "array(['X', 'T', 'C', ..., 'O', 'X', 'B'], dtype='<U1')"
      ]
     },
     "execution_count": 107,
     "metadata": {},
     "output_type": "execute_result"
    }
   ],
   "source": [
    "pred_let = model_let.predict(np.array(X_test_l))\n",
    "pred_num = model_num.predict(np.array(X_test_n))\n",
    "Y = np.array(y_test_n)\n",
    "Y1 = np.array(y_test_l)\n",
    "pred_let.shape\n",
    "Y1"
   ]
  },
  {
   "cell_type": "code",
   "execution_count": 108,
   "metadata": {},
   "outputs": [],
   "source": [
    "suma = 0\n",
    "for i in range(pred_let.shape[0]):\n",
    "    if letters[(pred_let.argmax(axis=1)[i])] == (Y1[i]):\n",
    "        suma += 1"
   ]
  },
  {
   "cell_type": "code",
   "execution_count": 109,
   "metadata": {},
   "outputs": [
    {
     "name": "stdout",
     "output_type": "stream",
     "text": [
      "SCORE_LET 0.9363318956664612\n"
     ]
    }
   ],
   "source": [
    "print(\"SCORE_LET\", suma/pred_let.shape[0])"
   ]
  },
  {
   "cell_type": "code",
   "execution_count": 110,
   "metadata": {},
   "outputs": [],
   "source": [
    "suma = 0\n",
    "for i in range(pred_num.shape[0]):\n",
    "    if int(pred_num.argmax(axis=1)[i]) == int(Y[i]):\n",
    "        suma += 1"
   ]
  },
  {
   "cell_type": "code",
   "execution_count": 111,
   "metadata": {},
   "outputs": [
    {
     "name": "stdout",
     "output_type": "stream",
     "text": [
      "SCORE_NUM 0.9693982337235572\n"
     ]
    }
   ],
   "source": [
    "print(\"SCORE_NUM\", suma/pred_num.shape[0])"
   ]
  },
  {
   "cell_type": "code",
   "execution_count": null,
   "metadata": {},
   "outputs": [],
   "source": []
  }
 ],
 "metadata": {
  "kernelspec": {
   "display_name": "Python 3",
   "language": "python",
   "name": "python3"
  },
  "language_info": {
   "codemirror_mode": {
    "name": "ipython",
    "version": 3
   },
   "file_extension": ".py",
   "mimetype": "text/x-python",
   "name": "python",
   "nbconvert_exporter": "python",
   "pygments_lexer": "ipython3",
   "version": "3.7.3"
  }
 },
 "nbformat": 4,
 "nbformat_minor": 2
}
